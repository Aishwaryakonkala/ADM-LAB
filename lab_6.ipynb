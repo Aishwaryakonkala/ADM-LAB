{
  "nbformat": 4,
  "nbformat_minor": 0,
  "metadata": {
    "colab": {
      "provenance": [],
      "authorship_tag": "ABX9TyP5cg+hXJBrgwZ8qAns5btu",
      "include_colab_link": true
    },
    "kernelspec": {
      "name": "python3",
      "display_name": "Python 3"
    },
    "language_info": {
      "name": "python"
    }
  },
  "cells": [
    {
      "cell_type": "markdown",
      "metadata": {
        "id": "view-in-github",
        "colab_type": "text"
      },
      "source": [
        "<a href=\"https://colab.research.google.com/github/Aishwaryakonkala/ADM-LAB/blob/main/lab_6.ipynb\" target=\"_parent\"><img src=\"https://colab.research.google.com/assets/colab-badge.svg\" alt=\"Open In Colab\"/></a>"
      ]
    },
    {
      "cell_type": "code",
      "execution_count": 1,
      "metadata": {
        "id": "1WlKcF0Errgr"
      },
      "outputs": [],
      "source": [
        "import pandas as pd\n",
        "from sklearn.preprocessing import LabelEncoder\n",
        "df = pd.read_csv('university_student.csv')"
      ]
    },
    {
      "cell_type": "code",
      "source": [
        "print(\"Dataset:\\n\", df)"
      ],
      "metadata": {
        "colab": {
          "base_uri": "https://localhost:8080/"
        },
        "id": "ppTJcA_RxDbu",
        "outputId": "6627455a-06d5-46c1-ddc1-c264e9ef5dd6"
      },
      "execution_count": 2,
      "outputs": [
        {
          "output_type": "stream",
          "name": "stdout",
          "text": [
            "Dataset:\n",
            "     Student ID  Gender Date of Birth  Study Time Grade School Type  Absences  \\\n",
            "0            1    Male    1996-12-03          11     D      Public         2   \n",
            "1            2  Female    2001-09-15           5     D     Private         0   \n",
            "2            3    Male    2002-08-09           8     A     Private         2   \n",
            "3            4    Male    1999-04-29           8     A     Private         3   \n",
            "4            5    Male    1995-06-11           9     B     Private         1   \n",
            "..         ...     ...           ...         ...   ...         ...       ...   \n",
            "95          96  Female    2004-12-04           8     C      Public         1   \n",
            "96          97  Female    2003-01-18           7     B     Private         4   \n",
            "97          98  Female    1999-01-24          14     A     Private         2   \n",
            "98          99  Female    2005-04-20           7     B     Private         1   \n",
            "99         100    Male    2004-12-25           7     B     Private         2   \n",
            "\n",
            "    Math Score  Reading Score  Writing Score  \n",
            "0           72             91             69  \n",
            "1           66             58             62  \n",
            "2           75             99             77  \n",
            "3           57             76             97  \n",
            "4           78             51             78  \n",
            "..         ...            ...            ...  \n",
            "95          87             85             88  \n",
            "96          56             76             87  \n",
            "97          95             66             83  \n",
            "98          62             58             87  \n",
            "99          89             82             99  \n",
            "\n",
            "[100 rows x 10 columns]\n"
          ]
        }
      ]
    },
    {
      "cell_type": "code",
      "source": [
        "# 2. Handle missing values with mean for numeric columns only\n",
        "for column in df.select_dtypes(include=['number']).columns:\n",
        "    df[column].fillna(df[column].mean(), inplace=True)"
      ],
      "metadata": {
        "colab": {
          "base_uri": "https://localhost:8080/"
        },
        "id": "zptztAaOxG6q",
        "outputId": "4e028465-66bf-442a-d784-d437aa3843e6"
      },
      "execution_count": 3,
      "outputs": [
        {
          "output_type": "stream",
          "name": "stderr",
          "text": [
            "<ipython-input-3-ea1def3f3aa5>:3: FutureWarning: A value is trying to be set on a copy of a DataFrame or Series through chained assignment using an inplace method.\n",
            "The behavior will change in pandas 3.0. This inplace method will never work because the intermediate object on which we are setting values always behaves as a copy.\n",
            "\n",
            "For example, when doing 'df[col].method(value, inplace=True)', try using 'df.method({col: value}, inplace=True)' or df[col] = df[col].method(value) instead, to perform the operation inplace on the original object.\n",
            "\n",
            "\n",
            "  df[column].fillna(df[column].mean(), inplace=True)\n"
          ]
        }
      ]
    },
    {
      "cell_type": "code",
      "source": [
        "# 3. One-hot encoding for 'gender' and 'school type'\n",
        "if 'gender' in df.columns:\n",
        "    df = pd.get_dummies(df, columns=['gender'], drop_first=True)\n",
        "if 'school_type' in df.columns:\n",
        "    df = pd.get_dummies(df, columns=['school_type'], drop_first=True)"
      ],
      "metadata": {
        "id": "JYiz1dvixP-x"
      },
      "execution_count": 4,
      "outputs": []
    },
    {
      "cell_type": "code",
      "source": [
        "# 4. Label encoding for 'Grade'\n",
        "label_encoder = LabelEncoder()\n",
        "df['Grade'] = label_encoder.fit_transform(df['Grade'])"
      ],
      "metadata": {
        "id": "faEItWwaxTER"
      },
      "execution_count": 5,
      "outputs": []
    },
    {
      "cell_type": "code",
      "source": [
        "# 5. Create new derived columns for 'Age' and 'Total Score'\n",
        "df['Date of Birth'] = pd.to_datetime(df['Date of Birth'])\n",
        "current_year = pd.Timestamp.now().year\n",
        "df['Age'] = current_year - df['Date of Birth'].dt.year\n",
        "df['Total Score'] = df['Math Score'] + df['Reading Score'] + df['Writing Score']"
      ],
      "metadata": {
        "id": "n_sZDklDxWL1"
      },
      "execution_count": 6,
      "outputs": []
    },
    {
      "cell_type": "code",
      "source": [
        "#6.group and aggregate data\n",
        "grouped_df = df.groupby('Grade')['Total Score'].mean().reset_index()\n",
        "print(\"Grouped and Aggregated Data:\\n\", grouped_df)"
      ],
      "metadata": {
        "colab": {
          "base_uri": "https://localhost:8080/"
        },
        "id": "nhWLrcD3xg2x",
        "outputId": "682e0e6e-aae4-4245-8e1d-424ede15aa84"
      },
      "execution_count": 7,
      "outputs": [
        {
          "output_type": "stream",
          "name": "stdout",
          "text": [
            "Grouped and Aggregated Data:\n",
            "    Grade  Total Score\n",
            "0      0   232.535714\n",
            "1      1   215.500000\n",
            "2      2   230.428571\n",
            "3      3   227.304348\n",
            "4      4   210.062500\n"
          ]
        }
      ]
    }
  ]
}