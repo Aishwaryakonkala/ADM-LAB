{
  "nbformat": 4,
  "nbformat_minor": 0,
  "metadata": {
    "colab": {
      "provenance": [],
      "authorship_tag": "ABX9TyMCWdqAncWu3a1MmbrY7l1I",
      "include_colab_link": true
    },
    "kernelspec": {
      "name": "python3",
      "display_name": "Python 3"
    },
    "language_info": {
      "name": "python"
    }
  },
  "cells": [
    {
      "cell_type": "markdown",
      "metadata": {
        "id": "view-in-github",
        "colab_type": "text"
      },
      "source": [
        "<a href=\"https://colab.research.google.com/github/Aishwaryakonkala/ADM-LAB/blob/main/lab7.ipynb\" target=\"_parent\"><img src=\"https://colab.research.google.com/assets/colab-badge.svg\" alt=\"Open In Colab\"/></a>"
      ]
    },
    {
      "cell_type": "code",
      "execution_count": 1,
      "metadata": {
        "id": "soFgHypizJ9e"
      },
      "outputs": [],
      "source": [
        "import numpy as np\n",
        "import pandas as pd\n",
        "import matplotlib.pyplot as plt\n",
        "import seaborn as sns\n",
        "from scipy import stats"
      ]
    },
    {
      "cell_type": "code",
      "source": [
        "np.random.seed(42)\n",
        "data=np.random.normal(0,1,100)\n",
        "outliers=np.random.uniform(5,10,5)"
      ],
      "metadata": {
        "id": "pAsRf3yF0WlM"
      },
      "execution_count": 4,
      "outputs": []
    },
    {
      "cell_type": "code",
      "source": [
        "data"
      ],
      "metadata": {
        "colab": {
          "base_uri": "https://localhost:8080/"
        },
        "id": "FK4ieVz10nAn",
        "outputId": "59b91b9c-0b25-478f-b4f4-a45907853260"
      },
      "execution_count": 5,
      "outputs": [
        {
          "output_type": "execute_result",
          "data": {
            "text/plain": [
              "array([ 0.49671415, -0.1382643 ,  0.64768854,  1.52302986, -0.23415337,\n",
              "       -0.23413696,  1.57921282,  0.76743473, -0.46947439,  0.54256004,\n",
              "       -0.46341769, -0.46572975,  0.24196227, -1.91328024, -1.72491783,\n",
              "       -0.56228753, -1.01283112,  0.31424733, -0.90802408, -1.4123037 ,\n",
              "        1.46564877, -0.2257763 ,  0.0675282 , -1.42474819, -0.54438272,\n",
              "        0.11092259, -1.15099358,  0.37569802, -0.60063869, -0.29169375,\n",
              "       -0.60170661,  1.85227818, -0.01349722, -1.05771093,  0.82254491,\n",
              "       -1.22084365,  0.2088636 , -1.95967012, -1.32818605,  0.19686124,\n",
              "        0.73846658,  0.17136828, -0.11564828, -0.3011037 , -1.47852199,\n",
              "       -0.71984421, -0.46063877,  1.05712223,  0.34361829, -1.76304016,\n",
              "        0.32408397, -0.38508228, -0.676922  ,  0.61167629,  1.03099952,\n",
              "        0.93128012, -0.83921752, -0.30921238,  0.33126343,  0.97554513,\n",
              "       -0.47917424, -0.18565898, -1.10633497, -1.19620662,  0.81252582,\n",
              "        1.35624003, -0.07201012,  1.0035329 ,  0.36163603, -0.64511975,\n",
              "        0.36139561,  1.53803657, -0.03582604,  1.56464366, -2.6197451 ,\n",
              "        0.8219025 ,  0.08704707, -0.29900735,  0.09176078, -1.98756891,\n",
              "       -0.21967189,  0.35711257,  1.47789404, -0.51827022, -0.8084936 ,\n",
              "       -0.50175704,  0.91540212,  0.32875111, -0.5297602 ,  0.51326743,\n",
              "        0.09707755,  0.96864499, -0.70205309, -0.32766215, -0.39210815,\n",
              "       -1.46351495,  0.29612028,  0.26105527,  0.00511346, -0.23458713])"
            ]
          },
          "metadata": {},
          "execution_count": 5
        }
      ]
    },
    {
      "cell_type": "code",
      "source": [
        "data_with_outliers=np.concatenate((data,outliers))"
      ],
      "metadata": {
        "id": "32b8ZKOZ23yD"
      },
      "execution_count": 7,
      "outputs": []
    },
    {
      "cell_type": "code",
      "source": [
        "df=pd.DataFrame(data_with_outliers,columns=['value'])"
      ],
      "metadata": {
        "id": "Q1mAQYl12SgQ"
      },
      "execution_count": 15,
      "outputs": []
    },
    {
      "cell_type": "code",
      "source": [
        "q1 = df['value'].quantile(0.25)\n",
        "q3 = df['value'].quantile(0.75)\n",
        "iqr = q3 - q1\n",
        "lower_bound = q1 - 1.5 * iqr\n",
        "upper_bound = q3 + 1.5 * iqr"
      ],
      "metadata": {
        "id": "LFily0kb3o9p"
      },
      "execution_count": 17,
      "outputs": []
    },
    {
      "cell_type": "code",
      "source": [
        "print(f\"Q1: {q1}\")\n",
        "print(f\"Q3: {q3}\")\n",
        "print(f\"IQR: {iqr}\")\n",
        "print(f\"Lower Bound: {lower_bound}\")\n",
        "print(f\"Upper Bound: {upper_bound}\")"
      ],
      "metadata": {
        "colab": {
          "base_uri": "https://localhost:8080/"
        },
        "id": "H2pnuAlg4qp0",
        "outputId": "20b200f5-dfad-4523-a3dc-3705f2fb1006"
      },
      "execution_count": 18,
      "outputs": [
        {
          "output_type": "stream",
          "name": "stdout",
          "text": [
            "Q1: -0.5622875292409727\n",
            "Q3: 0.6116762888408679\n",
            "IQR: 1.1739638180818406\n",
            "Lower Bound: -2.3232332563637335\n",
            "Upper Bound: 2.372622015963629\n"
          ]
        }
      ]
    },
    {
      "cell_type": "code",
      "source": [
        "plt.figure(figsize=(8, 6))\n",
        "sns.boxplot(x=df['value'])\n",
        "plt.title('Box Plot of Data with Outliers')\n",
        "plt.show()"
      ],
      "metadata": {
        "colab": {
          "base_uri": "https://localhost:8080/",
          "height": 564
        },
        "id": "c3fF-fCP_dcJ",
        "outputId": "a88a2cab-75c9-4c0a-8765-30011fda50dd"
      },
      "execution_count": 19,
      "outputs": [
        {
          "output_type": "display_data",
          "data": {
            "text/plain": [
              "<Figure size 800x600 with 1 Axes>"
            ],
            "image/png": "[encoded data removed]"
          },
          "metadata": {}
        }
      ]
    }
  ]
}