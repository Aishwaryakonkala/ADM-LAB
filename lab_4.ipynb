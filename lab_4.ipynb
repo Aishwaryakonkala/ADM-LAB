{
  "nbformat": 4,
  "nbformat_minor": 0,
  "metadata": {
    "colab": {
      "provenance": [],
      "authorship_tag": "ABX9TyMSeyTYAGUZ2KF3Ezb9suME",
      "include_colab_link": true
    },
    "kernelspec": {
      "name": "python3",
      "display_name": "Python 3"
    },
    "language_info": {
      "name": "python"
    }
  },
  "cells": [
    {
      "cell_type": "markdown",
      "metadata": {
        "id": "view-in-github",
        "colab_type": "text"
      },
      "source": [
        "<a href=\"https://colab.research.google.com/github/Aishwaryakonkala/ADM-LAB/blob/main/lab_4.ipynb\" target=\"_parent\"><img src=\"https://colab.research.google.com/assets/colab-badge.svg\" alt=\"Open In Colab\"/></a>"
      ]
    },
    {
      "cell_type": "code",
      "source": [
        "import pandas as pd\n",
        "from sklearn.preprocessing import LabelEncoder\n",
        "\n",
        "data = {\n",
        "      'Name': ['Alice', 'Bob', 'Charlie', 'David', 'Eve'],\n",
        "          'Gender': ['Female', 'Male', 'Male', 'Male', 'Female'],\n",
        "              'DOB': ['1990-05-15', '1985-10-22', '1992-07-08', '1988-03-25', '1995-12-30'],\n",
        "                  'City': ['New York', 'Los Angeles', 'Chicago', 'Houston', 'Phoenix'],\n",
        "                      'Salary': [70000, 80000, 75000, 90000, 65000]\n",
        "}"
      ],
      "metadata": {
        "id": "IRwsAhp6mwOV"
      },
      "execution_count": 5,
      "outputs": []
    },
    {
      "cell_type": "code",
      "source": [
        "df = pd.DataFrame(data)"
      ],
      "metadata": {
        "id": "X9WfPPssm24u"
      },
      "execution_count": 6,
      "outputs": []
    },
    {
      "cell_type": "code",
      "source": [
        "df['DOB'] = pd.to_datetime(df['DOB'])\n"
      ],
      "metadata": {
        "id": "yGXZdxp-m7Z0"
      },
      "execution_count": 7,
      "outputs": []
    },
    {
      "cell_type": "code",
      "source": [
        "df['Age'] = pd.Timestamp.now().year - df['DOB'].dt.year\n",
        "\n"
      ],
      "metadata": {
        "id": "Kf0N7Y8vnCH2"
      },
      "execution_count": 8,
      "outputs": []
    },
    {
      "cell_type": "code",
      "source": [
        "label_encoder = LabelEncoder()\n"
      ],
      "metadata": {
        "id": "Pdsa2L7ZnGp-"
      },
      "execution_count": 9,
      "outputs": []
    },
    {
      "cell_type": "code",
      "source": [
        "df['Gender_Label'] = label_encoder.fit_transform(df['Gender'])\n"
      ],
      "metadata": {
        "id": "rTx39OvXnP8e"
      },
      "execution_count": 10,
      "outputs": []
    },
    {
      "cell_type": "code",
      "source": [
        "df = pd.get_dummies(df, columns=['City'])\n"
      ],
      "metadata": {
        "id": "A69Wab8ynW4m"
      },
      "execution_count": 11,
      "outputs": []
    },
    {
      "cell_type": "code",
      "source": [
        "grouped_df = df.groupby('Gender')['Salary'].mean().reset_index()\n",
        "\n"
      ],
      "metadata": {
        "id": "U_nQ2suundVf"
      },
      "execution_count": 12,
      "outputs": []
    },
    {
      "cell_type": "code",
      "source": [
        "print(\"Average Salary by Gender:\")"
      ],
      "metadata": {
        "colab": {
          "base_uri": "https://localhost:8080/"
        },
        "id": "XVCrrOTenofY",
        "outputId": "92b034b7-8c5b-4062-af62-9493dc3541e9"
      },
      "execution_count": 13,
      "outputs": [
        {
          "output_type": "stream",
          "name": "stdout",
          "text": [
            "Average Salary by Gender:\n"
          ]
        }
      ]
    },
    {
      "cell_type": "code",
      "source": [
        "print(grouped_df)\n"
      ],
      "metadata": {
        "colab": {
          "base_uri": "https://localhost:8080/"
        },
        "id": "wY5eNqZjnuFZ",
        "outputId": "01522be0-4a09-4977-c242-2a36c99fa4cb"
      },
      "execution_count": 14,
      "outputs": [
        {
          "output_type": "stream",
          "name": "stdout",
          "text": [
            "   Gender        Salary\n",
            "0  Female  67500.000000\n",
            "1    Male  81666.666667\n"
          ]
        }
      ]
    },
    {
      "cell_type": "code",
      "source": [
        "pivot_df = df.pivot_table(values='Salary', index='Gender', columns='Age', aggfunc='mean', fill_value=0)\n"
      ],
      "metadata": {
        "id": "kgVSWpYpnzNA"
      },
      "execution_count": 15,
      "outputs": []
    },
    {
      "cell_type": "code",
      "source": [
        "print(\"\\nPivot Table (Salary by Gender and Age):\")\n"
      ],
      "metadata": {
        "colab": {
          "base_uri": "https://localhost:8080/"
        },
        "id": "U4e7w52Jn7ng",
        "outputId": "00ad584b-556e-4fab-e23f-2dd54d4fcec1"
      },
      "execution_count": 16,
      "outputs": [
        {
          "output_type": "stream",
          "name": "stdout",
          "text": [
            "\n",
            "Pivot Table (Salary by Gender and Age):\n"
          ]
        }
      ]
    },
    {
      "cell_type": "code",
      "source": [
        "print(pivot_df)\n"
      ],
      "metadata": {
        "colab": {
          "base_uri": "https://localhost:8080/"
        },
        "id": "4HPuaYkHoCvM",
        "outputId": "2e104ece-c144-404e-d688-cbd310ad62fb"
      },
      "execution_count": 17,
      "outputs": [
        {
          "output_type": "stream",
          "name": "stdout",
          "text": [
            "Age          30       33       35       37       40\n",
            "Gender                                             \n",
            "Female  65000.0      0.0  70000.0      0.0      0.0\n",
            "Male        0.0  75000.0      0.0  90000.0  80000.0\n"
          ]
        }
      ]
    },
    {
      "cell_type": "code",
      "source": [
        "print(\"\\nTransformed DataFrame:\")\n",
        "print(df)"
      ],
      "metadata": {
        "colab": {
          "base_uri": "https://localhost:8080/"
        },
        "id": "MSx-SSiioEiD",
        "outputId": "274101ec-615e-497f-a050-354e8cdb7e40"
      },
      "execution_count": 18,
      "outputs": [
        {
          "output_type": "stream",
          "name": "stdout",
          "text": [
            "\n",
            "Transformed DataFrame:\n",
            "      Name  Gender        DOB  Salary  Age  Gender_Label  City_Chicago  \\\n",
            "0    Alice  Female 1990-05-15   70000   35             0         False   \n",
            "1      Bob    Male 1985-10-22   80000   40             1         False   \n",
            "2  Charlie    Male 1992-07-08   75000   33             1          True   \n",
            "3    David    Male 1988-03-25   90000   37             1         False   \n",
            "4      Eve  Female 1995-12-30   65000   30             0         False   \n",
            "\n",
            "   City_Houston  City_Los Angeles  City_New York  City_Phoenix  \n",
            "0         False             False           True         False  \n",
            "1         False              True          False         False  \n",
            "2         False             False          False         False  \n",
            "3          True             False          False         False  \n",
            "4         False             False          False          True  \n"
          ]
        }
      ]
    }
  ]
}