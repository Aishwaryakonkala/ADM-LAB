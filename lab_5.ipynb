{
  "nbformat": 4,
  "nbformat_minor": 0,
  "metadata": {
    "colab": {
      "provenance": [],
      "authorship_tag": "ABX9TyNfB7PATseBKHyY+DkN52y9",
      "include_colab_link": true
    },
    "kernelspec": {
      "name": "python3",
      "display_name": "Python 3"
    },
    "language_info": {
      "name": "python"
    }
  },
  "cells": [
    {
      "cell_type": "markdown",
      "metadata": {
        "id": "view-in-github",
        "colab_type": "text"
      },
      "source": [
        "<a href=\"https://colab.research.google.com/github/Aishwaryakonkala/ADM-LAB/blob/main/lab_5.ipynb\" target=\"_parent\"><img src=\"https://colab.research.google.com/assets/colab-badge.svg\" alt=\"Open In Colab\"/></a>"
      ]
    },
    {
      "cell_type": "code",
      "source": [
        "import pandas as pd\n",
        "from mlxtend.preprocessing import TransactionEncoder\n",
        "from mlxtend.frequent_patterns import apriori, association_rules"
      ],
      "metadata": {
        "colab": {
          "base_uri": "https://localhost:8080/"
        },
        "id": "XluSU8W2iQgC",
        "outputId": "4e1abf87-68dc-47ec-dd0f-3f8d3272c705"
      },
      "execution_count": 2,
      "outputs": [
        {
          "output_type": "stream",
          "name": "stderr",
          "text": [
            "/usr/local/lib/python3.11/dist-packages/ipykernel/ipkernel.py:283: DeprecationWarning: `should_run_async` will not call `transform_cell` automatically in the future. Please pass the result to `transformed_cell` argument and any exception that happen during thetransform in `preprocessing_exc_tuple` in IPython 7.17 and above.\n",
            "  and should_run_async(code)\n"
          ]
        }
      ]
    },
    {
      "cell_type": "code",
      "source": [
        "dataset = [\n",
        "    ['milk', 'bread', 'butter'],\n",
        "    ['milk', 'bread'],\n",
        "    ['bread', 'butter'],\n",
        "    ['milk', 'bread', 'butter', 'jam'],\n",
        "    ['milk', 'bread', 'jam']\n",
        "]\n"
      ],
      "metadata": {
        "colab": {
          "base_uri": "https://localhost:8080/"
        },
        "id": "S2di1P2FigC4",
        "outputId": "1df57b4f-987f-4fed-e077-e9203516bc12"
      },
      "execution_count": 3,
      "outputs": [
        {
          "output_type": "stream",
          "name": "stderr",
          "text": [
            "/usr/local/lib/python3.11/dist-packages/ipykernel/ipkernel.py:283: DeprecationWarning: `should_run_async` will not call `transform_cell` automatically in the future. Please pass the result to `transformed_cell` argument and any exception that happen during thetransform in `preprocessing_exc_tuple` in IPython 7.17 and above.\n",
            "  and should_run_async(code)\n"
          ]
        }
      ]
    },
    {
      "cell_type": "code",
      "source": [
        "te = TransactionEncoder()\n",
        "te_ary = te.fit(dataset).transform(dataset)\n",
        "df = pd.DataFrame(te_ary, columns=te.columns_)\n"
      ],
      "metadata": {
        "colab": {
          "base_uri": "https://localhost:8080/"
        },
        "id": "2rXFoTwLikpb",
        "outputId": "d7395d15-9cef-42a9-856e-b48e00373f13"
      },
      "execution_count": 4,
      "outputs": [
        {
          "output_type": "stream",
          "name": "stderr",
          "text": [
            "/usr/local/lib/python3.11/dist-packages/ipykernel/ipkernel.py:283: DeprecationWarning: `should_run_async` will not call `transform_cell` automatically in the future. Please pass the result to `transformed_cell` argument and any exception that happen during thetransform in `preprocessing_exc_tuple` in IPython 7.17 and above.\n",
            "  and should_run_async(code)\n"
          ]
        }
      ]
    },
    {
      "cell_type": "code",
      "source": [
        "frequent_itemsets = apriori(df, min_support=0.3, use_colnames=True)\n"
      ],
      "metadata": {
        "colab": {
          "base_uri": "https://localhost:8080/"
        },
        "id": "lvfnL0bVirak",
        "outputId": "8a7e36f3-be7c-4e7c-de84-42d55a7212f9"
      },
      "execution_count": 5,
      "outputs": [
        {
          "output_type": "stream",
          "name": "stderr",
          "text": [
            "/usr/local/lib/python3.11/dist-packages/ipykernel/ipkernel.py:283: DeprecationWarning: `should_run_async` will not call `transform_cell` automatically in the future. Please pass the result to `transformed_cell` argument and any exception that happen during thetransform in `preprocessing_exc_tuple` in IPython 7.17 and above.\n",
            "  and should_run_async(code)\n"
          ]
        }
      ]
    },
    {
      "cell_type": "code",
      "source": [
        "print(\"Frequent Itemsets:\")\n",
        "print(frequent_itemsets)\n"
      ],
      "metadata": {
        "colab": {
          "base_uri": "https://localhost:8080/"
        },
        "id": "T-jML8l3ixOW",
        "outputId": "82931d7f-8f92-44d2-bf72-cbd04b98b9c2"
      },
      "execution_count": 6,
      "outputs": [
        {
          "output_type": "stream",
          "name": "stdout",
          "text": [
            "Frequent Itemsets:\n",
            "    support               itemsets\n",
            "0       1.0                (bread)\n",
            "1       0.6               (butter)\n",
            "2       0.4                  (jam)\n",
            "3       0.8                 (milk)\n",
            "4       0.6        (bread, butter)\n",
            "5       0.4           (jam, bread)\n",
            "6       0.8          (milk, bread)\n",
            "7       0.4         (milk, butter)\n",
            "8       0.4            (milk, jam)\n",
            "9       0.4  (milk, bread, butter)\n",
            "10      0.4     (milk, jam, bread)\n"
          ]
        },
        {
          "output_type": "stream",
          "name": "stderr",
          "text": [
            "/usr/local/lib/python3.11/dist-packages/ipykernel/ipkernel.py:283: DeprecationWarning: `should_run_async` will not call `transform_cell` automatically in the future. Please pass the result to `transformed_cell` argument and any exception that happen during thetransform in `preprocessing_exc_tuple` in IPython 7.17 and above.\n",
            "  and should_run_async(code)\n"
          ]
        }
      ]
    },
    {
      "cell_type": "code",
      "source": [
        "rules = association_rules(frequent_itemsets, metric=\"confidence\", min_threshold=0.7)\n"
      ],
      "metadata": {
        "colab": {
          "base_uri": "https://localhost:8080/"
        },
        "id": "ou2e9oNYi105",
        "outputId": "c6ec0f8b-3846-43c5-d5cd-c59294960b84"
      },
      "execution_count": 7,
      "outputs": [
        {
          "output_type": "stream",
          "name": "stderr",
          "text": [
            "/usr/local/lib/python3.11/dist-packages/ipykernel/ipkernel.py:283: DeprecationWarning: `should_run_async` will not call `transform_cell` automatically in the future. Please pass the result to `transformed_cell` argument and any exception that happen during thetransform in `preprocessing_exc_tuple` in IPython 7.17 and above.\n",
            "  and should_run_async(code)\n",
            "/usr/local/lib/python3.11/dist-packages/mlxtend/frequent_patterns/association_rules.py:186: RuntimeWarning: invalid value encountered in divide\n",
            "  cert_metric = np.where(certainty_denom == 0, 0, certainty_num / certainty_denom)\n"
          ]
        }
      ]
    },
    {
      "cell_type": "code",
      "source": [
        "print(\"\\nAssociation Rules:\")\n",
        "print(rules)\n",
        "\n"
      ],
      "metadata": {
        "colab": {
          "base_uri": "https://localhost:8080/"
        },
        "id": "w2But6Mri-oK",
        "outputId": "8899d878-b25c-4fb3-b02e-81adb3a991a5"
      },
      "execution_count": 8,
      "outputs": [
        {
          "output_type": "stream",
          "name": "stdout",
          "text": [
            "\n",
            "Association Rules:\n",
            "      antecedents    consequents  antecedent support  consequent support  \\\n",
            "0        (butter)        (bread)                 0.6                 1.0   \n",
            "1           (jam)        (bread)                 0.4                 1.0   \n",
            "2          (milk)        (bread)                 0.8                 1.0   \n",
            "3         (bread)         (milk)                 1.0                 0.8   \n",
            "4           (jam)         (milk)                 0.4                 0.8   \n",
            "5  (milk, butter)        (bread)                 0.4                 1.0   \n",
            "6     (milk, jam)        (bread)                 0.4                 1.0   \n",
            "7    (jam, bread)         (milk)                 0.4                 0.8   \n",
            "8           (jam)  (milk, bread)                 0.4                 0.8   \n",
            "\n",
            "   support  confidence  lift  representativity  leverage  conviction  \\\n",
            "0      0.6         1.0  1.00               1.0      0.00         inf   \n",
            "1      0.4         1.0  1.00               1.0      0.00         inf   \n",
            "2      0.8         1.0  1.00               1.0      0.00         inf   \n",
            "3      0.8         0.8  1.00               1.0      0.00         1.0   \n",
            "4      0.4         1.0  1.25               1.0      0.08         inf   \n",
            "5      0.4         1.0  1.00               1.0      0.00         inf   \n",
            "6      0.4         1.0  1.00               1.0      0.00         inf   \n",
            "7      0.4         1.0  1.25               1.0      0.08         inf   \n",
            "8      0.4         1.0  1.25               1.0      0.08         inf   \n",
            "\n",
            "   zhangs_metric  jaccard  certainty  kulczynski  \n",
            "0       0.000000      0.6        0.0        0.80  \n",
            "1       0.000000      0.4        0.0        0.70  \n",
            "2       0.000000      0.8        0.0        0.90  \n",
            "3       0.000000      0.8        0.0        0.90  \n",
            "4       0.333333      0.5        1.0        0.75  \n",
            "5       0.000000      0.4        0.0        0.70  \n",
            "6       0.000000      0.4        0.0        0.70  \n",
            "7       0.333333      0.5        1.0        0.75  \n",
            "8       0.333333      0.5        1.0        0.75  \n"
          ]
        },
        {
          "output_type": "stream",
          "name": "stderr",
          "text": [
            "/usr/local/lib/python3.11/dist-packages/ipykernel/ipkernel.py:283: DeprecationWarning: `should_run_async` will not call `transform_cell` automatically in the future. Please pass the result to `transformed_cell` argument and any exception that happen during thetransform in `preprocessing_exc_tuple` in IPython 7.17 and above.\n",
            "  and should_run_async(code)\n"
          ]
        }
      ]
    },
    {
      "cell_type": "code",
      "source": [
        "rules['support'] = rules['support']\n",
        "rules['confidence'] = rules['confidence']\n",
        "rules['lift'] = rules['lift']\n"
      ],
      "metadata": {
        "colab": {
          "base_uri": "https://localhost:8080/"
        },
        "id": "3TNDXYIijD6K",
        "outputId": "a619846a-593c-4207-ae02-c0783dd5398e"
      },
      "execution_count": 9,
      "outputs": [
        {
          "output_type": "stream",
          "name": "stderr",
          "text": [
            "/usr/local/lib/python3.11/dist-packages/ipykernel/ipkernel.py:283: DeprecationWarning: `should_run_async` will not call `transform_cell` automatically in the future. Please pass the result to `transformed_cell` argument and any exception that happen during thetransform in `preprocessing_exc_tuple` in IPython 7.17 and above.\n",
            "  and should_run_async(code)\n"
          ]
        }
      ]
    },
    {
      "cell_type": "code",
      "source": [
        "print(\"\\nAssociation Rules with Support, Confidence, and Lift:\")\n",
        "print(rules[['antecedents', 'consequents', 'support', 'confidence', 'lift']])"
      ],
      "metadata": {
        "colab": {
          "base_uri": "https://localhost:8080/"
        },
        "id": "IKOVJk-0jXtA",
        "outputId": "b587d910-2abd-4ea7-ad05-27cd701b658d"
      },
      "execution_count": 11,
      "outputs": [
        {
          "output_type": "stream",
          "name": "stdout",
          "text": [
            "\n",
            "Association Rules with Support, Confidence, and Lift:\n",
            "      antecedents    consequents  support  confidence  lift\n",
            "0        (butter)        (bread)      0.6         1.0  1.00\n",
            "1           (jam)        (bread)      0.4         1.0  1.00\n",
            "2          (milk)        (bread)      0.8         1.0  1.00\n",
            "3         (bread)         (milk)      0.8         0.8  1.00\n",
            "4           (jam)         (milk)      0.4         1.0  1.25\n",
            "5  (milk, butter)        (bread)      0.4         1.0  1.00\n",
            "6     (milk, jam)        (bread)      0.4         1.0  1.00\n",
            "7    (jam, bread)         (milk)      0.4         1.0  1.25\n",
            "8           (jam)  (milk, bread)      0.4         1.0  1.25\n"
          ]
        },
        {
          "output_type": "stream",
          "name": "stderr",
          "text": [
            "/usr/local/lib/python3.11/dist-packages/ipykernel/ipkernel.py:283: DeprecationWarning: `should_run_async` will not call `transform_cell` automatically in the future. Please pass the result to `transformed_cell` argument and any exception that happen during thetransform in `preprocessing_exc_tuple` in IPython 7.17 and above.\n",
            "  and should_run_async(code)\n"
          ]
        }
      ]
    }
  ]
}